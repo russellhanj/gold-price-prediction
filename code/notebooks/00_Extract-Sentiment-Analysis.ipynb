{
 "cells": [
  {
   "cell_type": "code",
   "execution_count": null,
   "id": "b851c3e8-cb51-4fa7-bd28-984c7151d2dd",
   "metadata": {},
   "outputs": [],
   "source": [
    "import matplotlib.pyplot as plt\n",
    "\n",
    "# Plot sentiment score distribution\n",
    "plt.hist(guardian_df['sentiment'], bins=20, edgecolor='black')\n",
    "plt.xlabel(\"Sentiment Score (Compound)\")\n",
    "plt.ylabel(\"Frequency\")\n",
    "plt.title(\"Distribution of Sentiment Scores in Headlines\")\n",
    "plt.show()"
   ]
  },
  {
   "cell_type": "code",
   "execution_count": null,
   "id": "28b6daae-b086-4fa4-9951-c64fd4035a1b",
   "metadata": {},
   "outputs": [],
   "source": [
    "# Plot sentiment score trends over time\n",
    "plt.figure(figsize=(12, 5))\n",
    "plt.plot(merged_df['date'], merged_df['sentiment'], label=\"Sentiment Score\", color=\"blue\", alpha=0.7)\n",
    "plt.xlabel(\"Date\")\n",
    "plt.ylabel(\"Sentiment Score\")\n",
    "plt.title(\"Sentiment Score Trend Over Time\")\n",
    "plt.legend()\n",
    "plt.show()"
   ]
  },
  {
   "cell_type": "code",
   "execution_count": null,
   "id": "34c5c3c6-3894-4a31-af1d-31d411ff4c57",
   "metadata": {},
   "outputs": [],
   "source": [
    "# Plot gold price trends over time\n",
    "plt.figure(figsize=(12, 5))\n",
    "plt.plot(merged_df['date'], merged_df['gold_price'], label=\"Gold Price\", color=\"gold\", alpha=0.7)\n",
    "plt.xlabel(\"Date\")\n",
    "plt.ylabel(\"Gold Price (USD)\")\n",
    "plt.title(\"Gold Price Trend Over Time\")\n",
    "plt.legend()\n",
    "plt.show()"
   ]
  },
  {
   "cell_type": "code",
   "execution_count": 1,
   "id": "b5749764-d345-4e46-afe3-cf8d5ff14177",
   "metadata": {},
   "outputs": [],
   "source": [
    "import pandas as pd\n",
    "from vaderSentiment.vaderSentiment import SentimentIntensityAnalyzer"
   ]
  },
  {
   "cell_type": "code",
   "execution_count": 2,
   "id": "e4887c65-8103-4c0b-9afc-2b5280eeb758",
   "metadata": {},
   "outputs": [],
   "source": [
    "# Load Guardian headlines dataset (Assuming it has 'publication_date' and 'headline' columns)\n",
    "df_news = pd.read_csv(\"../datasets/guardian_headlines_money_combined.csv\")\n"
   ]
  },
  {
   "cell_type": "code",
   "execution_count": 3,
   "id": "40256a0a-0299-4143-b406-74f281d80cf5",
   "metadata": {
    "scrolled": true
   },
   "outputs": [],
   "source": [
    "# Rename 'publication_date' to 'date' and ensure correct format\n",
    "df_news.rename(columns={'publication_date': 'date'}, inplace=True)\n",
    "df_news['date'] = pd.to_datetime(df_news['date']).dt.strftime('%Y-%m-%d')  # Format as YYYY-MM-DD\n"
   ]
  },
  {
   "cell_type": "code",
   "execution_count": 4,
   "id": "67e3a141-50d9-4f9e-9a11-21c90e45d5e5",
   "metadata": {},
   "outputs": [],
   "source": [
    "def analyze_sentiment(text):\n",
    "    \"\"\"Applies VADER sentiment analysis and returns the compound score.\"\"\"\n",
    "    analyzer = SentimentIntensityAnalyzer()\n",
    "    return analyzer.polarity_scores(text)['compound']\n"
   ]
  },
  {
   "cell_type": "code",
   "execution_count": 5,
   "id": "709553ec-ded2-4180-84fd-2f0d292c8dac",
   "metadata": {},
   "outputs": [],
   "source": [
    "# Apply sentiment analysis\n",
    "df_news['sentiment'] = df_news['headline'].astype(str).apply(analyze_sentiment)\n"
   ]
  },
  {
   "cell_type": "code",
   "execution_count": 6,
   "id": "2308119f-6018-4743-8c0c-cccfd8532923",
   "metadata": {},
   "outputs": [],
   "source": [
    "# Aggregate features by date\n",
    "news_features = df_news.groupby('date').agg(\n",
    "    headline_count=('headline', 'count'),\n",
    "    avg_sentiment=('sentiment', 'mean'),\n",
    "    std_sentiment=('sentiment', 'std')\n",
    ").reset_index()\n"
   ]
  },
  {
   "cell_type": "code",
   "execution_count": 7,
   "id": "ad9e69ad-b6cd-4805-9a04-70e64fff2957",
   "metadata": {},
   "outputs": [],
   "source": [
    "# Fill NaN values in std_sentiment (if no variation on a day, std = 0)\n",
    "news_features['std_sentiment'].fillna(0, inplace=True)\n"
   ]
  },
  {
   "cell_type": "code",
   "execution_count": 8,
   "id": "e8d0deaf-0f77-4528-af85-eb7d5a779b85",
   "metadata": {},
   "outputs": [
    {
     "name": "stdout",
     "output_type": "stream",
     "text": [
      "✅ Processed news sentiment features saved to 'news_sentiment.csv'\n"
     ]
    }
   ],
   "source": [
    "# Save processed data to CSV\n",
    "news_features.to_csv(\"../datasets/news_sentiment.csv\", index=False)\n",
    "\n",
    "print(\"✅ Processed news sentiment features saved to 'news_sentiment.csv'\")"
   ]
  }
 ],
 "metadata": {
  "kernelspec": {
   "display_name": "Python 3 (ipykernel)",
   "language": "python",
   "name": "python3"
  },
  "language_info": {
   "codemirror_mode": {
    "name": "ipython",
    "version": 3
   },
   "file_extension": ".py",
   "mimetype": "text/x-python",
   "name": "python",
   "nbconvert_exporter": "python",
   "pygments_lexer": "ipython3",
   "version": "3.11.7"
  }
 },
 "nbformat": 4,
 "nbformat_minor": 5
}
